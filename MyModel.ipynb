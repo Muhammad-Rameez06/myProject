{
 "cells": [
  {
   "cell_type": "code",
   "execution_count": 1,
   "id": "02e9840c-1d97-4bae-a7bb-58d1b78dcbe3",
   "metadata": {},
   "outputs": [],
   "source": [
    "import numpy as np\n",
    "import pandas as pd\n",
    "import math,copy\n",
    "import matplotlib.pyplot as plt"
   ]
  },
  {
   "cell_type": "code",
   "execution_count": 2,
   "id": "608b2e92-7765-4eec-a09c-905d9cd15b7e",
   "metadata": {},
   "outputs": [],
   "source": [
    "data = pd.read_csv('DataExcel.csv')\n"
   ]
  },
  {
   "cell_type": "code",
   "execution_count": 3,
   "id": "31a4409b-8984-43c5-88b4-8e22a6f8af18",
   "metadata": {},
   "outputs": [],
   "source": [
    "X_train = data[['size(sq_ft)', 'Bedrooms', 'Floors', 'Age', 'Kitchen', 'Washrooms']].values\n",
    "y_train = data['Price($)'].values"
   ]
  },
  {
   "cell_type": "code",
   "execution_count": 4,
   "id": "ee591693-4cca-4025-bd98-288fcdd30d90",
   "metadata": {},
   "outputs": [
    {
     "data": {
      "text/html": [
       "<div>\n",
       "<style scoped>\n",
       "    .dataframe tbody tr th:only-of-type {\n",
       "        vertical-align: middle;\n",
       "    }\n",
       "\n",
       "    .dataframe tbody tr th {\n",
       "        vertical-align: top;\n",
       "    }\n",
       "\n",
       "    .dataframe thead th {\n",
       "        text-align: right;\n",
       "    }\n",
       "</style>\n",
       "<table border=\"1\" class=\"dataframe\">\n",
       "  <thead>\n",
       "    <tr style=\"text-align: right;\">\n",
       "      <th></th>\n",
       "      <th>size(sq_ft)</th>\n",
       "      <th>Bedrooms</th>\n",
       "      <th>Floors</th>\n",
       "      <th>Age</th>\n",
       "      <th>Kitchen</th>\n",
       "      <th>Washrooms</th>\n",
       "      <th>Price($)</th>\n",
       "    </tr>\n",
       "  </thead>\n",
       "  <tbody>\n",
       "    <tr>\n",
       "      <th>0</th>\n",
       "      <td>1361</td>\n",
       "      <td>3</td>\n",
       "      <td>2</td>\n",
       "      <td>10</td>\n",
       "      <td>2</td>\n",
       "      <td>3</td>\n",
       "      <td>34135</td>\n",
       "    </tr>\n",
       "    <tr>\n",
       "      <th>1</th>\n",
       "      <td>2178</td>\n",
       "      <td>3</td>\n",
       "      <td>1</td>\n",
       "      <td>13</td>\n",
       "      <td>1</td>\n",
       "      <td>2</td>\n",
       "      <td>51326</td>\n",
       "    </tr>\n",
       "    <tr>\n",
       "      <th>2</th>\n",
       "      <td>2722</td>\n",
       "      <td>4</td>\n",
       "      <td>1</td>\n",
       "      <td>6</td>\n",
       "      <td>2</td>\n",
       "      <td>2</td>\n",
       "      <td>62349</td>\n",
       "    </tr>\n",
       "    <tr>\n",
       "      <th>3</th>\n",
       "      <td>4083</td>\n",
       "      <td>7</td>\n",
       "      <td>3</td>\n",
       "      <td>23</td>\n",
       "      <td>3</td>\n",
       "      <td>5</td>\n",
       "      <td>97845</td>\n",
       "    </tr>\n",
       "    <tr>\n",
       "      <th>4</th>\n",
       "      <td>5445</td>\n",
       "      <td>8</td>\n",
       "      <td>2</td>\n",
       "      <td>12</td>\n",
       "      <td>2</td>\n",
       "      <td>6</td>\n",
       "      <td>117645</td>\n",
       "    </tr>\n",
       "  </tbody>\n",
       "</table>\n",
       "</div>"
      ],
      "text/plain": [
       "   size(sq_ft)  Bedrooms  Floors  Age  Kitchen  Washrooms  Price($)\n",
       "0         1361         3       2   10        2          3     34135\n",
       "1         2178         3       1   13        1          2     51326\n",
       "2         2722         4       1    6        2          2     62349\n",
       "3         4083         7       3   23        3          5     97845\n",
       "4         5445         8       2   12        2          6    117645"
      ]
     },
     "execution_count": 4,
     "metadata": {},
     "output_type": "execute_result"
    }
   ],
   "source": [
    "data.head()"
   ]
  },
  {
   "cell_type": "code",
   "execution_count": 5,
   "id": "9fd05d02-8ceb-4033-921c-2e6a116453e5",
   "metadata": {},
   "outputs": [
    {
     "name": "stdout",
     "output_type": "stream",
     "text": [
      "[[1361    3    2   10    2    3]\n",
      " [2178    3    1   13    1    2]\n",
      " [2722    4    1    6    2    2]\n",
      " [4083    7    3   23    3    5]\n",
      " [5445    8    2   12    2    6]]\n",
      "[ 34135  51326  62349  97845 117645]\n"
     ]
    }
   ],
   "source": [
    "print(X_train)\n",
    "print(y_train)"
   ]
  },
  {
   "cell_type": "code",
   "execution_count": 6,
   "id": "732df59a-c4f6-45b9-8566-eefc00c8af09",
   "metadata": {},
   "outputs": [],
   "source": [
    "X_train = (X_train - np.mean(X_train, axis=0)) / np.std(X_train, axis=0)"
   ]
  },
  {
   "cell_type": "code",
   "execution_count": 7,
   "id": "b0150e97-424d-4be1-807d-25fb65109541",
   "metadata": {},
   "outputs": [],
   "source": [
    "def compute_cost(x, y, w, b):\n",
    "    m = x.shape[0]\n",
    "    cost = 0.0\n",
    "    for i in range(m):\n",
    "        f_wb_i = np.dot(x[i], w) + b\n",
    "        cost= cost + (f_wb_i - y[i]) **2\n",
    "    cost = cost / (2*m)\n",
    "    return cost"
   ]
  },
  {
   "cell_type": "code",
   "execution_count": 8,
   "id": "a6b61098-793a-4183-b996-ff0002d15de1",
   "metadata": {},
   "outputs": [],
   "source": [
    "def compute_gradient(x, y, w, b):\n",
    "    m,n = x.shape\n",
    "    dj_dw = np.zeros(n)\n",
    "    dj_db = 0.0\n",
    "    for i in range(m):\n",
    "        err = (np.dot(x[i], w) + b) - y[i]\n",
    "        for j in range(n):\n",
    "            dj_dw[j] = dj_dw[j] + err * x[i, j]\n",
    "        dj_db = dj_db + err\n",
    "    dj_dw = dj_dw / m\n",
    "    dj_db = dj_db / m\n",
    "    return dj_db , dj_dw"
   ]
  },
  {
   "cell_type": "code",
   "execution_count": 9,
   "id": "cc0d03e4-d748-489c-97a5-909e645c74f5",
   "metadata": {},
   "outputs": [],
   "source": [
    "def gradient_descent(x, y, w_in, b_in, cost_function, gradient_function, alpha, num_iters):\n",
    "    J_history = []\n",
    "    w =  copy.deepcopy(w_in)  #avoid modifying global w within function\n",
    "    b = b_in\n",
    "    for i in range(num_iters):\n",
    "\n",
    "        # Calculate the gradient and update the parameters\n",
    "        dj_db,dj_dw = gradient_function(x, y, w, b)   ##None\n",
    "\n",
    "        # Update Parameters using w, b, alpha and gradient\n",
    "        w = w - alpha * dj_dw               ##None\n",
    "        b = b - alpha * dj_db\n",
    "         # Save cost J at each iteration\n",
    "        if i<10000:      # prevent resource exhaustion \n",
    "            J_history.append( cost_function(x, y, w, b))\n",
    "\n",
    "        # Print cost every at intervals 10 times or as many iterations if < 10\n",
    "        if i% math.ceil(num_iters / 10) == 0:\n",
    "            print(f\"Iteration {i:4d}: Cost {J_history[-1]:8.2f}   \")\n",
    "        \n",
    "    return w, b, J_history"
   ]
  },
  {
   "cell_type": "code",
   "execution_count": 10,
   "id": "e7afc576-99d1-4080-9720-79d95c7fdd02",
   "metadata": {},
   "outputs": [
    {
     "name": "stdout",
     "output_type": "stream",
     "text": [
      "Iteration    0: Cost 3093187327.92   \n",
      "Iteration 1000: Cost 57511364.70   \n",
      "Iteration 2000: Cost 4737501.56   \n",
      "Iteration 3000: Cost 1881223.25   \n",
      "Iteration 4000: Cost 912065.99   \n",
      "Iteration 5000: Cost 446916.32   \n",
      "Iteration 6000: Cost 219256.58   \n",
      "Iteration 7000: Cost 107602.61   \n",
      "Iteration 8000: Cost 52813.12   \n",
      "Iteration 9000: Cost 25922.56   \n",
      "b,w found by gradient descent: b= 72660.00   w =  [17387.45106854 12735.60189881 -6953.8838874   4459.49304184\n",
      "  2393.02238426  1277.10088309] \n",
      "prediction: 34377.14, target value: 34135\n",
      "prediction: 51292.69, target value: 51326\n",
      "prediction: 62146.56, target value: 62349\n",
      "prediction: 97726.51, target value: 97845\n",
      "prediction: 117757.09, target value: 117645\n",
      "Size in sq_ft is : 2800\n",
      "Number of Bedrooms :4\n",
      "Number of Floors : 1\n",
      "Age of the house: 6,\n",
      "Number of Kitchens : 2\n",
      "Number of washrooms : 2\n",
      "Total predicted price of the house : 63083.98\n"
     ]
    }
   ],
   "source": [
    "initial_w = [0,0,0,0,0,0]\n",
    "initial_b = 0\n",
    "# some gradient descent settings\n",
    "iterations =10000\n",
    "alpha = 0.002\n",
    "# run gradient descent \n",
    "w_final, b_final, J_hist = gradient_descent(X_train, y_train, initial_w, initial_b,\n",
    "                                                    compute_cost, compute_gradient, \n",
    "                                                    alpha, iterations)\n",
    "print(f\"b,w found by gradient descent: b= {b_final:0.2f}   w =  {w_final} \")\n",
    "input = np.array([2800, 4, 1, 6, 2, 2]) ##for customize \n",
    "input_normalized = (input - np.mean(data[['size(sq_ft)', 'Bedrooms', 'Floors', 'Age', 'Kitchen', 'Washrooms']].values, axis=0)) / np.std(data[['size(sq_ft)', 'Bedrooms', 'Floors', 'Age', 'Kitchen', 'Washrooms']].values, axis=0)\n",
    "m,_ = X_train.shape\n",
    "for i in range(m):\n",
    "    print(f\"prediction: {np.dot(X_train[i], w_final) + b_final:0.2f}, target value: {y_train[i]}\") ##X_train[i]\n",
    "print(f\"Size in sq_ft is : {input[0]}\\nNumber of Bedrooms :{input[1]}\\nNumber of Floors : {input[2]}\\nAge of the house: {input[3]},\\nNumber of Kitchens : {input[4]}\\nNumber of washrooms : {input[5]}\\nTotal predicted price of the house : {np.dot(input_normalized, w_final) + b_final:0.2f}\")"
   ]
  },
  {
   "cell_type": "code",
   "execution_count": null,
   "id": "368777b3-0870-403f-a644-75c1a4b6f195",
   "metadata": {},
   "outputs": [],
   "source": []
  }
 ],
 "metadata": {
  "kernelspec": {
   "display_name": "Python 3 (ipykernel)",
   "language": "python",
   "name": "python3"
  },
  "language_info": {
   "codemirror_mode": {
    "name": "ipython",
    "version": 3
   },
   "file_extension": ".py",
   "mimetype": "text/x-python",
   "name": "python",
   "nbconvert_exporter": "python",
   "pygments_lexer": "ipython3",
   "version": "3.11.7"
  }
 },
 "nbformat": 4,
 "nbformat_minor": 5
}
